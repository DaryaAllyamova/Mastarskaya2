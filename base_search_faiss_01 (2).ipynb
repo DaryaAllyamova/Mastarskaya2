{
 "cells": [
  {
   "cell_type": "markdown",
   "metadata": {
    "id": "5OBZgAFqZAFU"
   },
   "source": [
    "# Мастерская 2 "
   ]
  },
  {
   "cell_type": "markdown",
   "metadata": {
    "id": "TS9Vri6GZM4y"
   },
   "source": [
    "Входные данные:\n",
    "- `base.csv` - анонимизированный набор товаров. Каждый товар представлен как уникальный id (0-base, 1-base, 2-base) и вектор признаков размерностью 72.\n",
    "- `target.csv` - обучающий датасет. Каждая строчка - один товар, для которого известен уникальный id (0-query, 1-query, …) , вектор признаков И id товара из base.csv, который максимально похож на него (по мнению экспертов).\n",
    "- `validation.csv` - датасет с товарами (уникальный id и вектор признаков), для которых надо найти наиболее близкие товары из base.csv\n",
    "- `validation_answer.csv` - правильные ответы к предыдущему файлу.\n"
   ]
  },
  {
   "cell_type": "markdown",
   "metadata": {
    "id": "3s-60YCEZheM"
   },
   "source": [
    "Задача: \n",
    "\n",
    "разработать алгоритм, который для всех товаров из validation.csv предложит несколько вариантов наиболее похожих товаров из base;\n",
    "\n",
    "оценить качество алгоритма по метрике accuracy@5\n",
    "\n",
    "*деплой: разработать REST API сервис, который по предложенным данным будем предлагать несколько похожих товаров.\n"
   ]
  },
  {
   "cell_type": "markdown",
   "metadata": {
    "id": "sqXsbrp7dANS"
   },
   "source": [
    "### Импорт библиотек"
   ]
  },
  {
   "cell_type": "code",
   "execution_count": 1,
   "metadata": {
    "id": "qlRy310fD_cx"
   },
   "outputs": [],
   "source": [
    "import pandas as pd\n",
    "import numpy as np\n",
    "import faiss\n",
    "from sklearn.preprocessing import RobustScaler, StandardScaler, MinMaxScaler"
   ]
  },
  {
   "cell_type": "code",
   "execution_count": 2,
   "metadata": {
    "id": "W6gcZIbsEKzy"
   },
   "outputs": [],
   "source": [
    "from urllib.parse import urlencode\n",
    "import os.path\n",
    "from sklearn.model_selection import train_test_split\n",
    "from catboost import CatBoostClassifier\n",
    "from catboost import cv, Pool\n",
    "from sklearn.metrics import roc_auc_score, roc_curve\n",
    "from joblib import dump, load\n",
    "import matplotlib.pyplot as plt"
   ]
  },
  {
   "cell_type": "code",
   "execution_count": 3,
   "metadata": {
    "id": "602vuP-f6ZdC"
   },
   "outputs": [],
   "source": [
    "from sklearn.model_selection import train_test_split\n",
    "from catboost import CatBoostClassifier\n",
    "from catboost import cv, Pool\n",
    "from sklearn.metrics import roc_auc_score, roc_curve\n",
    "from joblib import dump, load\n",
    "import matplotlib.pyplot as plt"
   ]
  },
  {
   "cell_type": "markdown",
   "metadata": {
    "id": "aH8RkWdFEUrT"
   },
   "source": [
    "### Загрузка данных из облака"
   ]
  },
  {
   "cell_type": "code",
   "execution_count": 4,
   "metadata": {
    "id": "7Z9fiOddfR6u"
   },
   "outputs": [
    {
     "ename": "NameError",
     "evalue": "name 'requests' is not defined",
     "output_type": "error",
     "traceback": [
      "\u001b[1;31m---------------------------------------------------------------------------\u001b[0m",
      "\u001b[1;31mNameError\u001b[0m                                 Traceback (most recent call last)",
      "Cell \u001b[1;32mIn[4], line 7\u001b[0m\n\u001b[0;32m      4\u001b[0m \u001b[38;5;66;03m#zip_path = '/content/data.zip'\u001b[39;00m\n\u001b[0;32m      6\u001b[0m final_url \u001b[38;5;241m=\u001b[39m base_url \u001b[38;5;241m+\u001b[39m urlencode(\u001b[38;5;28mdict\u001b[39m(public_key\u001b[38;5;241m=\u001b[39mpublic_key))\n\u001b[1;32m----> 7\u001b[0m response \u001b[38;5;241m=\u001b[39m requests\u001b[38;5;241m.\u001b[39mget(final_url)\n\u001b[0;32m      8\u001b[0m download_url \u001b[38;5;241m=\u001b[39m response\u001b[38;5;241m.\u001b[39mjson()[\u001b[38;5;124m'\u001b[39m\u001b[38;5;124mhref\u001b[39m\u001b[38;5;124m'\u001b[39m]\n",
      "\u001b[1;31mNameError\u001b[0m: name 'requests' is not defined"
     ]
    }
   ],
   "source": [
    "base_url = 'https://cloud-api.yandex.net/v1/disk/public/resources/download?'\n",
    "public_key = 'https://disk.yandex.ru/d/BBEphK0EHSJ5Jw'\n",
    "zip_path = '/content/drive/MyDrive/data.zip'\n",
    "#zip_path = '/content/data.zip'\n",
    "\n",
    "final_url = base_url + urlencode(dict(public_key=public_key))\n",
    "response = requests.get(final_url)\n",
    "download_url = response.json()['href']"
   ]
  },
  {
   "cell_type": "code",
   "execution_count": null,
   "metadata": {
    "id": "O4UnJDRhEb4T"
   },
   "outputs": [],
   "source": [
    "if not os.path.exists(zip_path):\n",
    "  download_response = requests.get(download_url)\n",
    "  with open(zip_path, 'wb') as f:\n",
    "    f.write(download_response.content)"
   ]
  },
  {
   "cell_type": "code",
   "execution_count": null,
   "metadata": {
    "id": "bBJbAVJwjTpJ"
   },
   "outputs": [],
   "source": [
    "# Распаковка zip-архива\n",
    "if not os.path.exists('/content/base.csv'):\n",
    "  with zipfile.ZipFile(zip_path, 'r') as zip_ref:\n",
    "    zip_ref.extractall()"
   ]
  },
  {
   "cell_type": "markdown",
   "metadata": {
    "id": "-27Ru9snjf06"
   },
   "source": [
    "### Чтение датасетов"
   ]
  },
  {
   "cell_type": "markdown",
   "metadata": {
    "id": "yDly8PMGE8ea"
   },
   "source": [
    "Подготовим словарь для корректной загрузки типов данных. По умолчанию загружается float64, мы используем float32."
   ]
  },
  {
   "cell_type": "code",
   "execution_count": null,
   "metadata": {
    "id": "xLCSiaXKE9oI"
   },
   "outputs": [],
   "source": [
    "dict_base = {}\n",
    "for i in range(72):\n",
    "    dict_base[str(i)] = 'float32'\n",
    "\n",
    "dict_train = dict_base.copy()\n",
    "dict_train['Target'] = 'str'"
   ]
  },
  {
   "cell_type": "markdown",
   "metadata": {
    "id": "rUrirCtCFJFM"
   },
   "source": [
    "Загрузка основного датасета `base.csv`"
   ]
  },
  {
   "cell_type": "code",
   "execution_count": null,
   "metadata": {
    "colab": {
     "base_uri": "https://localhost:8080/",
     "height": 374
    },
    "id": "TL7jRf7qFMlb",
    "outputId": "0edb9eb7-8d27-4fd5-b431-3d65131c1d54"
   },
   "outputs": [],
   "source": [
    "df_base = pd.read_csv(\"/content/base.csv\", index_col=0, dtype=dict_base)\n",
    "df_base.sample(5)"
   ]
  },
  {
   "cell_type": "code",
   "execution_count": null,
   "metadata": {
    "colab": {
     "base_uri": "https://localhost:8080/"
    },
    "id": "iCitbPgxFOZl",
    "outputId": "27753a74-c528-4fa1-f616-4eb81a9bd2b1"
   },
   "outputs": [],
   "source": [
    "df_base.shape"
   ]
  },
  {
   "cell_type": "code",
   "execution_count": null,
   "metadata": {
    "colab": {
     "base_uri": "https://localhost:8080/"
    },
    "id": "Yu32UhxpFRqE",
    "outputId": "3ea32021-035c-4b83-fbb3-f9238c4eef92"
   },
   "outputs": [],
   "source": [
    "df_base[['0','32','71']].info()"
   ]
  },
  {
   "cell_type": "markdown",
   "metadata": {
    "id": "OQn3HRo-FXKp"
   },
   "source": [
    "Загрузка датасета с таргетами `train.csv`"
   ]
  },
  {
   "cell_type": "code",
   "execution_count": null,
   "metadata": {
    "colab": {
     "base_uri": "https://localhost:8080/",
     "height": 179
    },
    "id": "t0Vuni4xFXnP",
    "outputId": "6b5d49f0-a579-4889-a035-b7d3a280bd9d"
   },
   "outputs": [],
   "source": [
    "df_train = pd.read_csv(\"/content/train.csv\", index_col=0, dtype=dict_train)\n",
    "df_train.sample()"
   ]
  },
  {
   "cell_type": "code",
   "execution_count": null,
   "metadata": {
    "colab": {
     "base_uri": "https://localhost:8080/"
    },
    "id": "y8U5DlPBFZyC",
    "outputId": "b9e20435-9407-4e57-a571-9c91a16037cd"
   },
   "outputs": [],
   "source": [
    "df_train.shape"
   ]
  },
  {
   "cell_type": "markdown",
   "metadata": {
    "id": "Dj1L1BHSlsRT"
   },
   "source": [
    "Загрузка датасета с заданием `validation.csv`"
   ]
  },
  {
   "cell_type": "code",
   "execution_count": null,
   "metadata": {
    "colab": {
     "base_uri": "https://localhost:8080/",
     "height": 179
    },
    "id": "ONQpJXSWlsRV",
    "outputId": "9c278390-ca8c-4cc7-f9bd-bd935ee95674"
   },
   "outputs": [],
   "source": [
    "df_validation = pd.read_csv(\"/content/validation.csv\", index_col=0, dtype=dict_train)\n",
    "df_validation.sample()"
   ]
  },
  {
   "cell_type": "code",
   "execution_count": null,
   "metadata": {
    "id": "2yO8MoQMUEFT"
   },
   "outputs": [],
   "source": [
    "#df_validation.iloc[0, :].tolist()"
   ]
  },
  {
   "cell_type": "code",
   "execution_count": null,
   "metadata": {
    "colab": {
     "base_uri": "https://localhost:8080/"
    },
    "id": "0nAvEaaelsRW",
    "outputId": "bab5cf44-93ae-4fd7-a52f-ee04db824b96"
   },
   "outputs": [],
   "source": [
    "df_validation.shape"
   ]
  },
  {
   "cell_type": "markdown",
   "metadata": {
    "id": "kgr39CDOltzZ"
   },
   "source": [
    "Загрузка датасета с ответами `validation_answer.csv`"
   ]
  },
  {
   "cell_type": "code",
   "execution_count": null,
   "metadata": {
    "colab": {
     "base_uri": "https://localhost:8080/",
     "height": 112
    },
    "id": "qvJIoM0Jlt0F",
    "outputId": "21b404b1-d3b7-46cb-8fba-6b24381e0048"
   },
   "outputs": [],
   "source": [
    "df_validation_answer = pd.read_csv(\"/content/validation_answer.csv\", index_col=0, dtype=dict_train)\n",
    "df_validation_answer.sample()"
   ]
  },
  {
   "cell_type": "code",
   "execution_count": null,
   "metadata": {
    "colab": {
     "base_uri": "https://localhost:8080/"
    },
    "id": "vO6-Fn0slt0F",
    "outputId": "d281326d-4333-4b8c-e8cd-e343f39a5cd1"
   },
   "outputs": [],
   "source": [
    "df_validation_answer.shape"
   ]
  },
  {
   "cell_type": "code",
   "execution_count": null,
   "metadata": {
    "id": "yvjkLvM-mqe0"
   },
   "outputs": [],
   "source": [
    "df_validation_answer_all = df_validation.join(df_validation_answer)"
   ]
  },
  {
   "cell_type": "code",
   "execution_count": null,
   "metadata": {
    "colab": {
     "base_uri": "https://localhost:8080/",
     "height": 179
    },
    "id": "tZLpI9sEm1sa",
    "outputId": "cbb4b5a6-7c61-45e1-9ae2-a9c2acae8990"
   },
   "outputs": [],
   "source": [
    "df_validation_answer_all.sample()"
   ]
  },
  {
   "cell_type": "markdown",
   "metadata": {
    "id": "-ZsajroJvhx2"
   },
   "source": [
    "### Сборка результатов"
   ]
  },
  {
   "cell_type": "markdown",
   "metadata": {
    "id": "rContEizbW0o"
   },
   "source": [
    "Напишем функцию для подсчета метрики и сохранения промежуточных результатов."
   ]
  },
  {
   "cell_type": "code",
   "execution_count": null,
   "metadata": {
    "id": "vw1UNPnovulJ"
   },
   "outputs": [],
   "source": [
    "overall_scores = {'Кластеры': [],\n",
    "                  'Поиск в соседних': [],\n",
    "                  'Опции': [],\n",
    "                  'accuracy@5': []}\n",
    "\n",
    "def accuracy_aggregator(targets, idx, base_index, \\\n",
    "                        n_cells, nprobe, comment=''):\n",
    "  overall_scores['Кластеры'].append(n_cells)\n",
    "  overall_scores['Поиск в соседних'].append(nprobe)\n",
    "  overall_scores['Опции'].append(comment)\n",
    "  acc = 0\n",
    "  for target, el in zip(targets.values.tolist(), idx.tolist()):\n",
    "    acc += int(target in [base_index[r] for r in el])\n",
    "  result = 100 * acc / len(idx)\n",
    "  overall_scores['accuracy@5'].append(result)\n",
    "  print(f'Кластеры: {n_cells}, nprobe: {nprobe}, accuracy@5: {result} %')"
   ]
  },
  {
   "cell_type": "markdown",
   "metadata": {
    "id": "76HLnTP72H8E"
   },
   "source": [
    "## Реализация приближенного поиска"
   ]
  },
  {
   "cell_type": "markdown",
   "metadata": {
    "id": "_n-dAGOEFb2R"
   },
   "source": [
    "### Baseline поиск"
   ]
  },
  {
   "cell_type": "markdown",
   "metadata": {
    "id": "RHcw7mLUpzLt"
   },
   "source": [
    "Создаём индекс."
   ]
  },
  {
   "cell_type": "code",
   "execution_count": null,
   "metadata": {
    "id": "Vwuf_-CgFc2d"
   },
   "outputs": [],
   "source": [
    "dims = df_base.shape[1]\n",
    "n_cells = 100 # количество центроидов\n",
    "quantizer = faiss.IndexFlatL2(dims)\n",
    "idx_l2 = faiss.IndexIVFFlat(quantizer, dims, n_cells)"
   ]
  },
  {
   "cell_type": "markdown",
   "metadata": {
    "id": "xKqwz0tMcCli"
   },
   "source": [
    "Размечаем индекс, добавляем в него вектора."
   ]
  },
  {
   "cell_type": "code",
   "execution_count": null,
   "metadata": {
    "id": "wjryIbraFf4S"
   },
   "outputs": [],
   "source": [
    "idx_l2.train(np.ascontiguousarray(df_base.values).astype('float32'))\n",
    "idx_l2.add(np.ascontiguousarray(df_base.values).astype('float32'))"
   ]
  },
  {
   "cell_type": "code",
   "execution_count": null,
   "metadata": {
    "id": "y1Fyt3kZFhqv"
   },
   "outputs": [],
   "source": [
    "base_index = {k: v for k, v in enumerate(df_base.index.to_list())}"
   ]
  },
  {
   "cell_type": "code",
   "execution_count": null,
   "metadata": {
    "id": "kS_JwzeqFlh7"
   },
   "outputs": [],
   "source": [
    "targets = df_train[\"Target\"]\n",
    "df_train.drop(\"Target\", axis=1, inplace=True)"
   ]
  },
  {
   "cell_type": "markdown",
   "metadata": {
    "id": "HanSeNuccrSF"
   },
   "source": [
    "Осуществляем поиск 5 ближайших соседей и считаем метрику."
   ]
  },
  {
   "cell_type": "code",
   "execution_count": null,
   "metadata": {
    "colab": {
     "base_uri": "https://localhost:8080/"
    },
    "id": "gD0Ea3UGFnNW",
    "outputId": "b8d3a16d-4847-4525-9578-7635434e308a"
   },
   "outputs": [],
   "source": [
    "vecs, idx = idx_l2.search(np.ascontiguousarray(df_train.values).astype('float32'), 5)\n",
    "accuracy_aggregator(targets, idx, base_index, n_cells, 1, 'baseline')"
   ]
  },
  {
   "cell_type": "markdown",
   "metadata": {
    "id": "MqKYvQQ3h0vM"
   },
   "source": [
    "### Поиск с различными параметрами"
   ]
  },
  {
   "cell_type": "markdown",
   "metadata": {
    "id": "IU9oE5NWa4y8"
   },
   "source": [
    "Посчитаем метрику для различного количества кластеров в индексе и для различного количества кластеров, в которых будет осуществляться поиск. Надо учитывать, что заведомо максимальная метрика может быть получена только за заведомо максимальное время."
   ]
  },
  {
   "cell_type": "code",
   "execution_count": null,
   "metadata": {
    "id": "yF-kUhYzqwLc"
   },
   "outputs": [],
   "source": [
    "dims = df_base.shape[1] #кол-во признаков\n",
    "base_index = {k: v for k, v in enumerate(df_base.index.to_list())}\n",
    "k = 5 #кол-во ближайших соседей\n",
    "\n",
    "n_cells_list = [1000, 500, 200] #кол-во ячеек в индексе\n",
    "nprobe_list = [1, 2, 10] #кол-во кластеров для поиска"
   ]
  },
  {
   "cell_type": "code",
   "execution_count": null,
   "metadata": {
    "colab": {
     "base_uri": "https://localhost:8080/"
    },
    "id": "mvPwprU6rSxm",
    "outputId": "ed30f950-f68f-41a9-b53e-bdec93eae64a"
   },
   "outputs": [],
   "source": [
    "# неоптимальный перебор параметров по циклу\n",
    "# нехватает учета времени для каждой итерации\n",
    "for n_cells in n_cells_list:\n",
    "  for nprobe in nprobe_list:\n",
    "    quantizer = faiss.IndexFlatL2(dims)\n",
    "    idx_l2 = faiss.IndexIVFFlat(quantizer, dims, n_cells)\n",
    "    idx_l2.train(np.ascontiguousarray(df_base.values).astype('float32'))\n",
    "    idx_l2.add(np.ascontiguousarray(df_base.values).astype('float32'))\n",
    "    idx_l2.nprobe = nprobe\n",
    "    r, idx = idx_l2.search(np.ascontiguousarray(df_train.values).astype('float32'), k)\n",
    "    accuracy_aggregator(targets, idx, base_index, n_cells, nprobe, 'search')"
   ]
  },
  {
   "cell_type": "markdown",
   "metadata": {
    "id": "aEchxCVclwZu"
   },
   "source": [
    "Были и другие эксперименты. Не все из них закончились. Вообще."
   ]
  },
  {
   "cell_type": "markdown",
   "metadata": {
    "id": "dxE1DqDZ7aw5"
   },
   "source": [
    "### Промежуточные результаты"
   ]
  },
  {
   "cell_type": "code",
   "execution_count": null,
   "metadata": {
    "colab": {
     "base_uri": "https://localhost:8080/",
     "height": 363
    },
    "id": "gUqpw4fGx20F",
    "outputId": "96580c65-4030-4058-a5e0-3bee7d82f509"
   },
   "outputs": [],
   "source": [
    "my_metrics = pd.DataFrame(overall_scores)\n",
    "my_metrics"
   ]
  },
  {
   "cell_type": "markdown",
   "metadata": {
    "id": "dOii2_BzlsTB"
   },
   "source": [
    "Чем больше кластеров в индексе и быстрее поиск, тем хуже качество поиска. Чем больше соседних кластеров привлекается для поиска, тем качество поиска лучше."
   ]
  },
  {
   "cell_type": "markdown",
   "metadata": {
    "id": "qd3WBxi12lTF"
   },
   "source": [
    "## Оптимизация"
   ]
  },
  {
   "cell_type": "markdown",
   "metadata": {
    "id": "nn27L6WSGION"
   },
   "source": [
    "### EDA"
   ]
  },
  {
   "cell_type": "markdown",
   "metadata": {
    "id": "dQPsWdesen5O"
   },
   "source": [
    "Посмотрим на распределения признаков в базе `df_base`."
   ]
  },
  {
   "cell_type": "code",
   "execution_count": null,
   "metadata": {
    "id": "xDP_t1iKYVuD"
   },
   "outputs": [],
   "source": [
    "df_samples = df_base.sample(10000)"
   ]
  },
  {
   "cell_type": "code",
   "execution_count": null,
   "metadata": {
    "colab": {
     "base_uri": "https://localhost:8080/",
     "height": 613
    },
    "id": "jtplwHsrYXeZ",
    "outputId": "344ba4b0-71fb-4e77-ad5f-c74a577f6f79"
   },
   "outputs": [],
   "source": [
    "df_samples.hist(figsize=[40, 20], bins=50);"
   ]
  },
  {
   "cell_type": "code",
   "execution_count": null,
   "metadata": {
    "id": "SL6KHHEbFpko"
   },
   "outputs": [],
   "source": [
    "df_samples = df_train[:5000]"
   ]
  },
  {
   "cell_type": "code",
   "execution_count": null,
   "metadata": {
    "colab": {
     "base_uri": "https://localhost:8080/",
     "height": 614
    },
    "id": "TCnYGs0_GMjb",
    "outputId": "a55825b6-0351-4948-8127-2ce9274dbd8f"
   },
   "outputs": [],
   "source": [
    "df_samples.hist(figsize=[40, 20], bins=50);"
   ]
  },
  {
   "cell_type": "markdown",
   "metadata": {
    "id": "sFqMvvxHGPbq"
   },
   "source": [
    "В `df_train` распределения выглядят аналогичным образом. Отметим, что в столбцах '6', '21', '25', '33', '44', '65', '70' распределения признаков значительно отличаются от нормальных."
   ]
  },
  {
   "cell_type": "markdown",
   "metadata": {
    "id": "IZfSHQnRGTbR"
   },
   "source": [
    "### Оптимизация данных"
   ]
  },
  {
   "cell_type": "markdown",
   "metadata": {
    "id": "nAsvC4OjA2gp"
   },
   "source": [
    "Проведём несколько экспериментов, чтобы понять, как отразятся на метрике удаление отдельных признаков, а также различные варианты масштабирования признаков."
   ]
  },
  {
   "cell_type": "code",
   "execution_count": null,
   "metadata": {
    "id": "8KB7GOw9hHXl"
   },
   "outputs": [],
   "source": [
    "scaler_MM = MinMaxScaler()\n",
    "df_base_MM = scaler_MM.fit_transform(df_base)\n",
    "df_train_MM = scaler_MM.transform(df_train)"
   ]
  },
  {
   "cell_type": "code",
   "execution_count": null,
   "metadata": {
    "colab": {
     "base_uri": "https://localhost:8080/"
    },
    "id": "2vYwyWOvhebx",
    "outputId": "508ce0cc-ed68-4aef-b516-25529a144edd"
   },
   "outputs": [],
   "source": [
    "%%time\n",
    "dims = df_base_MM.shape[1] #кол-во признаков\n",
    "k = 5 #кол-во ближайших соседей\n",
    "n_cells = 1000 #кол-во ячеек в индексе\n",
    "nprobe = 10 #кол-во кластеров для поиска\n",
    "\n",
    "quantizer = faiss.IndexFlatL2(dims)\n",
    "idx_l2 = faiss.IndexIVFFlat(quantizer, dims, n_cells)\n",
    "idx_l2.train(np.ascontiguousarray(df_base_MM).astype('float32'))\n",
    "idx_l2.add(np.ascontiguousarray(df_base_MM).astype('float32'))\n",
    "idx_l2.nprobe = nprobe\n",
    "r, idx = idx_l2.search(np.ascontiguousarray(df_train_MM).astype('float32'), k)\n",
    "accuracy_aggregator(targets, idx, base_index, n_cells, nprobe, 'MinMaxScaler')"
   ]
  },
  {
   "cell_type": "code",
   "execution_count": null,
   "metadata": {
    "id": "MDfplyd6hgCN"
   },
   "outputs": [],
   "source": [
    "del df_base_MM\n",
    "del df_train_MM"
   ]
  },
  {
   "cell_type": "code",
   "execution_count": null,
   "metadata": {
    "id": "R4QequRqzFRV"
   },
   "outputs": [],
   "source": [
    "unnormal_columns = ['6', '21', '25', '33', '44', '65', '70']\n",
    "df_base_drop = df_base.copy()\n",
    "df_train_drop = df_train.copy()\n",
    "\n",
    "for df in [df_base_drop, df_train_drop]:\n",
    "  for column in unnormal_columns:\n",
    "    df.drop(column, axis=1, inplace=True)"
   ]
  },
  {
   "cell_type": "code",
   "execution_count": null,
   "metadata": {
    "colab": {
     "base_uri": "https://localhost:8080/"
    },
    "id": "jq3ZuLMlzoLo",
    "outputId": "c31cc368-9c4e-46c7-853e-2b8af0a85f71"
   },
   "outputs": [],
   "source": [
    "%%time\n",
    "dims = df_base_drop.shape[1] #кол-во признаков\n",
    "k = 5 #кол-во ближайших соседей\n",
    "n_cells = 1000 #кол-во ячеек в индексе\n",
    "nprobe = 10 #кол-во кластеров для поиска\n",
    "\n",
    "quantizer = faiss.IndexFlatL2(dims)\n",
    "idx_l2 = faiss.IndexIVFFlat(quantizer, dims, n_cells)\n",
    "idx_l2.train(np.ascontiguousarray(df_base_drop.values).astype('float32'))\n",
    "idx_l2.add(np.ascontiguousarray(df_base_drop.values).astype('float32'))\n",
    "idx_l2.nprobe = nprobe\n",
    "r, idx = idx_l2.search(np.ascontiguousarray(df_train_drop.values).astype('float32'), k)\n",
    "accuracy_aggregator(targets, idx, base_index, n_cells, nprobe, 'Drop Unnormal')"
   ]
  },
  {
   "cell_type": "code",
   "execution_count": null,
   "metadata": {
    "id": "6yOfBPT8xO99"
   },
   "outputs": [],
   "source": [
    "# important_columns = ['7', '17', '3', '28', '34', '4', '42',\n",
    "#                      '27', '13', '49', '20', '10', '29', '41',\n",
    "#                      '55', '62', '58', '24', '16']\n",
    "important_columns = ['6', '70', '33', '27', '65', '21', '68',\n",
    "                     '34', '31', '8', '42', '50', '43', '4',\n",
    "                     '41', '62']\n",
    "df_base_drop = df_base[important_columns]\n",
    "df_train_drop = df_train[important_columns]"
   ]
  },
  {
   "cell_type": "code",
   "execution_count": null,
   "metadata": {
    "colab": {
     "base_uri": "https://localhost:8080/"
    },
    "id": "CDDCTNSpxO-U",
    "outputId": "7573c872-09e3-4962-da1f-20e08da66a23"
   },
   "outputs": [],
   "source": [
    "%%time\n",
    "dims = df_base_drop.shape[1] #кол-во признаков\n",
    "k = 5 #кол-во ближайших соседей\n",
    "n_cells = 1000 #кол-во ячеек в индексе\n",
    "nprobe = 10 #кол-во кластеров для поиска\n",
    "\n",
    "quantizer = faiss.IndexFlatL2(dims)\n",
    "idx_l2 = faiss.IndexIVFFlat(quantizer, dims, n_cells)\n",
    "idx_l2.train(np.ascontiguousarray(df_base_drop.values).astype('float32'))\n",
    "idx_l2.add(np.ascontiguousarray(df_base_drop.values).astype('float32'))\n",
    "idx_l2.nprobe = nprobe\n",
    "r, idx = idx_l2.search(np.ascontiguousarray(df_train_drop.values).astype('float32'), k)\n",
    "accuracy_aggregator(targets, idx, base_index, n_cells, nprobe, 'Drop Unimportant (Catboost-2)')"
   ]
  },
  {
   "cell_type": "code",
   "execution_count": null,
   "metadata": {
    "id": "TPiuWzPGAwki"
   },
   "outputs": [],
   "source": [
    "scaler_RS = RobustScaler()\n",
    "df_base_RS = scaler_RS.fit_transform(df_base)\n",
    "df_train_RS = scaler_RS.transform(df_train)"
   ]
  },
  {
   "cell_type": "code",
   "execution_count": null,
   "metadata": {
    "colab": {
     "base_uri": "https://localhost:8080/"
    },
    "id": "4AV0ok37vrOp",
    "outputId": "8827ebdc-1c2d-47f4-b3a8-d36640213923"
   },
   "outputs": [],
   "source": [
    "%%time\n",
    "dims = df_base_RS.shape[1] #кол-во признаков\n",
    "#base_index = {k: v for k, v in enumerate(df_base.index.to_list())}\n",
    "k = 5 #кол-во ближайших соседей\n",
    "n_cells = 1000 #кол-во ячеек в индексе\n",
    "nprobe = 10 #кол-во кластеров для поиска\n",
    "\n",
    "quantizer = faiss.IndexFlatL2(dims)\n",
    "idx_l2 = faiss.IndexIVFFlat(quantizer, dims, n_cells)\n",
    "idx_l2.train(np.ascontiguousarray(df_base_RS).astype('float32'))\n",
    "idx_l2.add(np.ascontiguousarray(df_base_RS).astype('float32'))\n",
    "idx_l2.nprobe = nprobe\n",
    "r, idx = idx_l2.search(np.ascontiguousarray(df_train_RS).astype('float32'), k)\n",
    "accuracy_aggregator(targets, idx, base_index, n_cells, nprobe, 'RobustScaler')"
   ]
  },
  {
   "cell_type": "code",
   "execution_count": null,
   "metadata": {
    "id": "S5KL4IruwY_k"
   },
   "outputs": [],
   "source": [
    "del df_base_RS\n",
    "del df_train_RS"
   ]
  },
  {
   "cell_type": "code",
   "execution_count": null,
   "metadata": {
    "id": "oo4TBHQbLaLk"
   },
   "outputs": [],
   "source": [
    "scaler_SS = StandardScaler()\n",
    "df_base_SS = scaler_SS.fit_transform(df_base)\n",
    "df_train_SS = scaler_SS.transform(df_train)\n",
    "scaler_filename = '/content/drive/MyDrive/std_scale_1.bin'\n",
    "dump(scaler_SS, scaler_filename, compress=True)\n",
    "\n",
    "df_base_drop_SS = scaler_SS.fit_transform(df_base_drop)\n",
    "df_train_drop_SS = scaler_SS.transform(df_train_drop)"
   ]
  },
  {
   "cell_type": "code",
   "execution_count": null,
   "metadata": {
    "id": "xCEn1pmWDkGO"
   },
   "outputs": [],
   "source": [
    "del df_base_drop\n",
    "del df_train_drop"
   ]
  },
  {
   "cell_type": "code",
   "execution_count": null,
   "metadata": {
    "colab": {
     "base_uri": "https://localhost:8080/"
    },
    "id": "4_jz768Nxa_u",
    "outputId": "71c8ea3c-612b-4694-b917-a89ce879b4ed"
   },
   "outputs": [],
   "source": [
    "%%time\n",
    "dims = df_base_SS.shape[1] #кол-во признаков\n",
    "k = 5 #кол-во ближайших соседей\n",
    "n_cells = 1000 #кол-во ячеек в индексе\n",
    "nprobe = 10 #кол-во кластеров для поиска\n",
    "\n",
    "quantizer = faiss.IndexFlatL2(dims)\n",
    "idx_l2 = faiss.IndexIVFFlat(quantizer, dims, n_cells)\n",
    "idx_l2.train(np.ascontiguousarray(df_base_SS).astype('float32'))\n",
    "idx_l2.add(np.ascontiguousarray(df_base_SS).astype('float32'))\n",
    "idx_l2.nprobe = nprobe\n",
    "r, idx = idx_l2.search(np.ascontiguousarray(df_train_SS).astype('float32'), k)\n",
    "accuracy_aggregator(targets, idx, base_index, n_cells, nprobe, 'StandardScaler')"
   ]
  },
  {
   "cell_type": "code",
   "execution_count": null,
   "metadata": {
    "colab": {
     "base_uri": "https://localhost:8080/"
    },
    "id": "_HFaZHezzHHC",
    "outputId": "30d0745d-6b91-475d-a6cf-0c18cb59406f"
   },
   "outputs": [],
   "source": [
    "%%time\n",
    "dims = df_base_drop_SS.shape[1] #кол-во признаков\n",
    "k = 5 #кол-во ближайших соседей\n",
    "n_cells = 1000 #кол-во ячеек в индексе\n",
    "nprobe = 10 #кол-во кластеров для поиска\n",
    "\n",
    "quantizer = faiss.IndexFlatL2(dims)\n",
    "idx_l2 = faiss.IndexIVFFlat(quantizer, dims, n_cells)\n",
    "idx_l2.train(np.ascontiguousarray(df_base_drop_SS).astype('float32'))\n",
    "idx_l2.add(np.ascontiguousarray(df_base_drop_SS).astype('float32'))\n",
    "idx_l2.nprobe = nprobe\n",
    "r, idx = idx_l2.search(np.ascontiguousarray(df_train_drop_SS).astype('float32'), k)\n",
    "accuracy_aggregator(targets, idx, base_index, n_cells, nprobe, \\\n",
    "                    'StandardScaler, Drop Unimportant')"
   ]
  },
  {
   "cell_type": "code",
   "execution_count": null,
   "metadata": {
    "id": "hanG8uomzL48"
   },
   "outputs": [],
   "source": [
    "del df_base_drop_SS\n",
    "del df_train_drop_SS\n",
    "# del df_base_SS\n",
    "# del df_train_SS"
   ]
  },
  {
   "cell_type": "markdown",
   "metadata": {
    "id": "0NI6CuwSVo0X"
   },
   "source": [
    "### Промежуточные результаты - 2"
   ]
  },
  {
   "cell_type": "code",
   "execution_count": null,
   "metadata": {
    "colab": {
     "base_uri": "https://localhost:8080/",
     "height": 551
    },
    "id": "9FlbsP0chSAe",
    "outputId": "e55d2a30-b52d-4ba2-c46c-c6ecfabc0c53"
   },
   "outputs": [],
   "source": [
    "my_metrics = pd.DataFrame(overall_scores)\n",
    "my_metrics"
   ]
  },
  {
   "cell_type": "markdown",
   "metadata": {
    "id": "idjCU86Jpngu"
   },
   "source": [
    "Наилучшие показатели у данных, отмасштабированных с помощью StandardScaler. Будем работать с этими данными дальше.\n",
    "\n",
    "Вообще такой большой прирост качества \"из коробки\" намекает, что работой с признаками можно ещё сильнее улучшить метрику."
   ]
  },
  {
   "cell_type": "markdown",
   "metadata": {
    "id": "K_m_lZpS24Bd"
   },
   "source": [
    "## Ранжирование (IMPLEMENTED BUT NOT WORKING)"
   ]
  },
  {
   "cell_type": "markdown",
   "metadata": {
    "id": "bg00vxjs57S5"
   },
   "source": [
    "### Catboost в качестве ранжирующей модели"
   ]
  },
  {
   "cell_type": "markdown",
   "metadata": {
    "id": "sHptfadtjbaR"
   },
   "source": [
    "Соберём большее количество соседей. Для экономии времени была выбрана не самая оптимальная конфигурация."
   ]
  },
  {
   "cell_type": "code",
   "execution_count": null,
   "metadata": {
    "id": "3QRCqR96jbld"
   },
   "outputs": [],
   "source": [
    "# здесь подобрать оптимальные параметры для будущего использования\n",
    "\n",
    "dims = df_base.shape[1] #кол-во признаков\n",
    "k = 50 #кол-во ближайших соседей\n",
    "n_cells = 200 #кол-во ячеек в индексе\n",
    "nprobe = 20 #кол-во кластеров для поиска\n",
    "index_filename = f'/content/drive/MyDrive/idx_l2_{n_cells}_{nprobe}.index'"
   ]
  },
  {
   "cell_type": "markdown",
   "metadata": {
    "id": "kFSkSLWWtMLq"
   },
   "source": [
    "Сохраним индекс на диске. В будущем можно будет им пользоваться, не проводя предварительные вычисления."
   ]
  },
  {
   "cell_type": "code",
   "execution_count": null,
   "metadata": {
    "colab": {
     "base_uri": "https://localhost:8080/"
    },
    "id": "pIti0BiXtEdT",
    "outputId": "d7ed4a22-ff07-4404-acba-559b41915214"
   },
   "outputs": [],
   "source": [
    "%%time\n",
    "if not os.path.exists(index_filename):\n",
    "  quantizer = faiss.IndexFlatL2(dims)\n",
    "  idx_l2 = faiss.IndexIVFFlat(quantizer, dims, n_cells)\n",
    "  idx_l2.train(np.ascontiguousarray(df_base_SS).astype('float32'))\n",
    "  idx_l2.add(np.ascontiguousarray(df_base_SS).astype('float32'))\n",
    "  idx_l2.nprobe = nprobe\n",
    "  r, idx = idx_l2.search(np.ascontiguousarray(df_train_SS).astype('float32'), k)\n",
    "  accuracy_aggregator(targets, idx, base_index, n_cells, nprobe, 'StandardScaler, 50 Neighbours')\n",
    "  faiss.write_index(idx_l2, index_filename)\n",
    "else:\n",
    "  idx_l2 = faiss.read_index(index_filename)"
   ]
  },
  {
   "cell_type": "code",
   "execution_count": null,
   "metadata": {
    "colab": {
     "base_uri": "https://localhost:8080/"
    },
    "id": "9q6Gm6p-FzT1",
    "outputId": "1db87eb8-61bc-4e39-e051-6d90383fe714"
   },
   "outputs": [],
   "source": [
    "%%time\n",
    "r, idx = idx_l2.search(np.ascontiguousarray(df_train_SS).astype('float32'), 50)\n",
    "accuracy_aggregator(targets, idx, base_index, n_cells, nprobe, 'StandardScaler, 50 Neighbours')"
   ]
  },
  {
   "cell_type": "code",
   "execution_count": null,
   "metadata": {
    "colab": {
     "base_uri": "https://localhost:8080/",
     "height": 81
    },
    "id": "qM73KEMWqaK7",
    "outputId": "079daac4-43f8-4452-ae6a-dbe84c6da772"
   },
   "outputs": [],
   "source": [
    "my_metrics = pd.DataFrame(overall_scores)\n",
    "my_metrics.tail(1)"
   ]
  },
  {
   "cell_type": "code",
   "execution_count": null,
   "metadata": {
    "colab": {
     "base_uri": "https://localhost:8080/"
    },
    "id": "_NVCb0zysqQ6",
    "outputId": "64718972-ab03-4d45-b0f2-2deb99a12f0d"
   },
   "outputs": [],
   "source": [
    "len(idx)"
   ]
  },
  {
   "cell_type": "code",
   "execution_count": null,
   "metadata": {
    "colab": {
     "base_uri": "https://localhost:8080/"
    },
    "id": "7CXIptMaMKMe",
    "outputId": "fd93301d-fa29-4829-d680-55ee4b322790"
   },
   "outputs": [],
   "source": [
    "len(idx[0])"
   ]
  },
  {
   "cell_type": "code",
   "execution_count": null,
   "metadata": {
    "colab": {
     "base_uri": "https://localhost:8080/"
    },
    "id": "JXt3rchgyJaE",
    "outputId": "811f2205-65d2-463a-ed57-37511539880e"
   },
   "outputs": [],
   "source": [
    "targets.head()"
   ]
  },
  {
   "cell_type": "code",
   "execution_count": null,
   "metadata": {
    "id": "v0dMZ2LZUMXK"
   },
   "outputs": [],
   "source": [
    "# формирование списка названия колонок для обучающего датафрейма\n",
    "columns=df_base.columns.tolist()\n",
    "all_columns = columns\n",
    "new_columns = [f'{col}_search' for col in columns]\n",
    "all_columns.extend(new_columns)\n",
    "all_columns.extend(['is_neighbour'])"
   ]
  },
  {
   "cell_type": "code",
   "execution_count": null,
   "metadata": {
    "id": "Bkybtdq9H2du"
   },
   "outputs": [],
   "source": [
    "# Далее идет совершенно неправильный способ задания обучающего датафрейма.\n",
    "# df_base_cat = pd.DataFrame(columns=all_columns)\n",
    "# columns=df_base.columns.tolist()\n",
    "# df_base_cat"
   ]
  },
  {
   "cell_type": "code",
   "execution_count": null,
   "metadata": {
    "id": "XOpcnK4PEi11"
   },
   "outputs": [],
   "source": [
    "# инициализация матриц для внесения сравниваемых признаков\n",
    "np_base_SS = np.empty(72)\n",
    "np_train_SS = np.empty(72)\n",
    "\n",
    "results = []\n",
    "base_names = []"
   ]
  },
  {
   "cell_type": "code",
   "execution_count": null,
   "metadata": {
    "colab": {
     "base_uri": "https://localhost:8080/"
    },
    "id": "8KMonHc_tDLx",
    "outputId": "e1c003fa-590b-4a72-f24b-3a5876d1b1e5"
   },
   "outputs": [],
   "source": [
    "%%time\n",
    "sycle = 0\n",
    "# Берём ограниченный объём данных.\n",
    "for target, el in zip(targets.values.tolist()[:2000], idx.tolist()[:2000]):\n",
    "  for r in el:\n",
    "    #если делать так, всё очень медленно\n",
    "    #df_base_cat.loc[sycle, columns] = df_base_SS[r]\n",
    "    #df_base_cat.loc[sycle, new_columns] = df_train_SS[sycle]\n",
    "    #df_base_cat.loc[sycle, 'result'] = base_index[r]\n",
    "\n",
    "    if target == base_index[r]:\n",
    "      #df_base_cat.loc[sycle, 'is_neighbour'] = 1\n",
    "      results.append(1)\n",
    "    else:\n",
    "      #df_base_cat.loc[sycle, 'is_neighbour'] = 0\n",
    "      results.append(0)\n",
    "\n",
    "    np_base_SS = np.vstack([np_base_SS, df_base_SS[r]])\n",
    "    np_train_SS = np.vstack([np_train_SS, df_train_SS[sycle]])\n",
    "    base_names.append(base_index[r])\n",
    "    sycle+=1\n",
    "\n",
    "sycle"
   ]
  },
  {
   "cell_type": "code",
   "execution_count": null,
   "metadata": {
    "colab": {
     "base_uri": "https://localhost:8080/"
    },
    "id": "puTA3AwJsmAb",
    "outputId": "26ae3957-cf4f-4d76-f734-acbd95946bb1"
   },
   "outputs": [],
   "source": [
    "sum(results)"
   ]
  },
  {
   "cell_type": "code",
   "execution_count": null,
   "metadata": {
    "colab": {
     "base_uri": "https://localhost:8080/"
    },
    "id": "ynQ7GFglu2F5",
    "outputId": "df182dac-c8e6-4be5-8c88-6c17a2fcfe20"
   },
   "outputs": [],
   "source": [
    "# соединяем матрицы, удаляем первую строку (возникла при инициализации)\n",
    "cat_array = np.hstack([np_base_SS, np_train_SS])\n",
    "cat_array = np.delete(cat_array, (0), axis=0)\n",
    "cat_array.shape"
   ]
  },
  {
   "cell_type": "code",
   "execution_count": null,
   "metadata": {
    "id": "aJWSq9tVvdyd"
   },
   "outputs": [],
   "source": [
    "# добаляем столбец с таргетом\n",
    "cat_array = np.insert (cat_array, 144, results, axis=1)"
   ]
  },
  {
   "cell_type": "code",
   "execution_count": null,
   "metadata": {
    "colab": {
     "base_uri": "https://localhost:8080/"
    },
    "id": "_7ut7bU5wJJm",
    "outputId": "6460cf36-7847-414a-cd46-699ebe87dc5e"
   },
   "outputs": [],
   "source": [
    "# матрица становится датафреймом\n",
    "df_base_cat = pd.DataFrame(data=cat_array, columns=all_columns, index=base_names)\n",
    "df_base_cat.shape"
   ]
  },
  {
   "cell_type": "code",
   "execution_count": null,
   "metadata": {
    "id": "IkAwJqoQlAZi"
   },
   "outputs": [],
   "source": [
    "# df_base_cat['result'] = base_names\n",
    "# df_base_cat = df_base_cat.set_index('result')"
   ]
  },
  {
   "cell_type": "code",
   "execution_count": null,
   "metadata": {
    "id": "67ZPsa8kIUUw"
   },
   "outputs": [],
   "source": [
    "# df_base_cat.shape"
   ]
  },
  {
   "cell_type": "code",
   "execution_count": null,
   "metadata": {
    "colab": {
     "base_uri": "https://localhost:8080/",
     "height": 147
    },
    "id": "R6MIAM3eCnRk",
    "outputId": "23cd813e-4cd7-4cce-9df4-e71c0b0ef3ad"
   },
   "outputs": [],
   "source": [
    "df_base_cat[df_base_cat['is_neighbour']==1].sample()"
   ]
  },
  {
   "cell_type": "code",
   "execution_count": null,
   "metadata": {
    "colab": {
     "base_uri": "https://localhost:8080/"
    },
    "id": "57s-DX7ubPUy",
    "outputId": "745e4813-d333-4424-e7a4-45772057e63d"
   },
   "outputs": [],
   "source": [
    "# Очень мало целевого признака\n",
    "df_base_cat['is_neighbour'].sum()/df_base_cat.shape[0]"
   ]
  },
  {
   "cell_type": "code",
   "execution_count": null,
   "metadata": {
    "id": "OZGMdN5qAQei"
   },
   "outputs": [],
   "source": [
    "X_train, X_test, y_train, y_test = train_test_split(\n",
    "    df_base_cat.drop(['is_neighbour'] , axis=1),\n",
    "    df_base_cat['is_neighbour'],\n",
    "    test_size=0.25,\n",
    "    random_state=2007,\n",
    "    stratify=df_base_cat['is_neighbour']\n",
    "    )"
   ]
  },
  {
   "cell_type": "code",
   "execution_count": null,
   "metadata": {
    "colab": {
     "base_uri": "https://localhost:8080/",
     "height": 147
    },
    "id": "_OApxi_eo1pX",
    "outputId": "7b3a2b62-80f7-42c1-8b6c-529f944b6249"
   },
   "outputs": [],
   "source": [
    "X_train.sample()"
   ]
  },
  {
   "cell_type": "code",
   "execution_count": null,
   "metadata": {
    "id": "0JcETi3VAMsC"
   },
   "outputs": [],
   "source": [
    "cat_features = []"
   ]
  },
  {
   "cell_type": "code",
   "execution_count": null,
   "metadata": {
    "id": "mJuYBKPFAMzN"
   },
   "outputs": [],
   "source": [
    "train_data = Pool(data=X_train,\n",
    "                  label=y_train,\n",
    "                  cat_features=cat_features\n",
    "                 )"
   ]
  },
  {
   "cell_type": "code",
   "execution_count": null,
   "metadata": {
    "id": "aySUvUboAXBF"
   },
   "outputs": [],
   "source": [
    "test_data = Pool(data=X_test,\n",
    "                  label=y_test,\n",
    "                  cat_features=cat_features\n",
    "                 )"
   ]
  },
  {
   "cell_type": "code",
   "execution_count": null,
   "metadata": {
    "id": "-nUpWEoaAZg6"
   },
   "outputs": [],
   "source": [
    "params = {'cat_features': cat_features,\n",
    "          'eval_metric': 'AUC',\n",
    "          'loss_function': 'Logloss',\n",
    "          #'learning_rate': 0.01,\n",
    "          'random_seed': 2007,\n",
    "          'verbose':100\n",
    "          }"
   ]
  },
  {
   "cell_type": "code",
   "execution_count": null,
   "metadata": {
    "colab": {
     "base_uri": "https://localhost:8080/"
    },
    "id": "DHTFTIdeAbvw",
    "outputId": "6719cfda-b5c0-4bde-e50f-7c4e2e3538ac"
   },
   "outputs": [],
   "source": [
    "cv_data = cv(\n",
    "    params = params,\n",
    "    pool = train_data,\n",
    "    fold_count=5,\n",
    "    shuffle=True,\n",
    "    partition_random_seed=0,\n",
    "    stratified=True,\n",
    "    verbose=False,\n",
    "    #early_stopping_rounds=200\n",
    ")"
   ]
  },
  {
   "cell_type": "code",
   "execution_count": null,
   "metadata": {
    "id": "7tFNJVnIAM83"
   },
   "outputs": [],
   "source": [
    "model = CatBoostClassifier(**params)"
   ]
  },
  {
   "cell_type": "code",
   "execution_count": null,
   "metadata": {
    "colab": {
     "base_uri": "https://localhost:8080/"
    },
    "id": "N2t9No_kANBr",
    "outputId": "bae63f59-b6ce-4e00-c1d2-06fe3edd8b75"
   },
   "outputs": [],
   "source": [
    "model.fit(train_data)"
   ]
  },
  {
   "cell_type": "code",
   "execution_count": null,
   "metadata": {
    "colab": {
     "base_uri": "https://localhost:8080/",
     "height": 677
    },
    "id": "DqvqnewFwEU2",
    "outputId": "36163f84-e5e0-4d0a-9f30-fa0c22c292d7"
   },
   "outputs": [],
   "source": [
    "# может быть это будет полезно для оптимизации поиска.\n",
    "# проверено. В первом случае помогло, во втором - наоборот\n",
    "model.get_feature_importance(prettified=True).head(20)"
   ]
  },
  {
   "cell_type": "code",
   "execution_count": null,
   "metadata": {
    "id": "sxFhjXYavkWL"
   },
   "outputs": [],
   "source": [
    "# Сохраним модель для будущего использования\n",
    "model_filename = f'/content/drive/MyDrive/cbm_big.cbm'\n",
    "model.save_model(model_filename,\n",
    "           format=\"cbm\",\n",
    "           export_parameters=None,\n",
    "           pool=None)"
   ]
  },
  {
   "cell_type": "code",
   "execution_count": null,
   "metadata": {
    "id": "akSxuAGwAoRn"
   },
   "outputs": [],
   "source": [
    "y_pr = model.predict_proba(test_data)[:, 1]\n",
    "#np.argsort(y_pr)"
   ]
  },
  {
   "cell_type": "code",
   "execution_count": null,
   "metadata": {
    "colab": {
     "base_uri": "https://localhost:8080/"
    },
    "id": "YVolXX9k1QEh",
    "outputId": "0d12dc5b-d491-4395-8e7c-87916eecd2fd"
   },
   "outputs": [],
   "source": [
    "X_test['is_neighbour'] = y_test\n",
    "X_test['is_neighbour_proba'] = y_pr\n",
    "roc_auc_score(X_test['is_neighbour'],X_test['is_neighbour_proba'])"
   ]
  },
  {
   "cell_type": "code",
   "execution_count": null,
   "metadata": {
    "colab": {
     "base_uri": "https://localhost:8080/",
     "height": 472
    },
    "id": "D5fRKri2Qq3H",
    "outputId": "28c212a6-1073-46ce-d028-6ba7607ff6b6"
   },
   "outputs": [],
   "source": [
    "fpr, tpr, thresholds = roc_curve(X_test['is_neighbour'], X_test['is_neighbour_proba'])\n",
    "plt.figure()\n",
    "plt.plot(fpr, tpr)\n",
    "plt.plot([0, 1], [0, 1], linestyle='--')\n",
    "plt.ylim([0.0, 1.0])\n",
    "plt.xlim([0.0, 1.0])\n",
    "plt.xlabel('False Positive Rate')\n",
    "plt.ylabel('True Positive Rate')\n",
    "plt.title('ROC-кривая')\n",
    "plt.show()"
   ]
  },
  {
   "cell_type": "markdown",
   "metadata": {
    "id": "gWbxVz5_2gN1"
   },
   "source": [
    "Модель требует дополнительной настройки и в данном виде неприменима для улучшения метрики."
   ]
  },
  {
   "cell_type": "markdown",
   "metadata": {
    "id": "flsxcP00WYcw"
   },
   "source": [
    "### Промежуточные результаты - 3"
   ]
  },
  {
   "cell_type": "code",
   "execution_count": null,
   "metadata": {
    "colab": {
     "base_uri": "https://localhost:8080/",
     "height": 582
    },
    "id": "_cAPVrzIWdKU",
    "outputId": "417232a3-1c9f-47c4-a53b-7dfe0e759358"
   },
   "outputs": [],
   "source": [
    "my_metrics = pd.DataFrame(overall_scores)\n",
    "my_metrics"
   ]
  },
  {
   "cell_type": "markdown",
   "metadata": {
    "id": "fZo8uhcD25Nh"
   },
   "source": [
    "Как показывает тестирование, модель в состоянии указать на наиболее важные признаки, которым можно будет уделять дополнительное внимание."
   ]
  },
  {
   "cell_type": "markdown",
   "metadata": {
    "id": "HP-E9bcYWkhd"
   },
   "source": [
    "## Решение задачи"
   ]
  },
  {
   "cell_type": "markdown",
   "metadata": {
    "id": "8LPIn3cgJRC9"
   },
   "source": [
    "Загрузим сохранённые ранее индекс, скейлер и модель и проведём поиск 5 ближайших соседей для всех товаров из `validation.csv`."
   ]
  },
  {
   "cell_type": "code",
   "execution_count": null,
   "metadata": {
    "id": "UlIMOXDwWs78"
   },
   "outputs": [],
   "source": [
    "idx_l2 = faiss.read_index('/content/drive/MyDrive/idx_l2_200_20.index')\n",
    "nprobe = idx_l2.nprobe"
   ]
  },
  {
   "cell_type": "code",
   "execution_count": null,
   "metadata": {
    "id": "ywQYMcf2noz4"
   },
   "outputs": [],
   "source": [
    "# ответы у нас уже есть\n",
    "answers = df_validation_answer.squeeze()\n",
    "# не забываем масштабирование\n",
    "scaler_SS=load('/content/drive/MyDrive/std_scale_1.bin')\n",
    "df_validation_SS = scaler_SS.transform(df_validation)"
   ]
  },
  {
   "cell_type": "code",
   "execution_count": null,
   "metadata": {
    "colab": {
     "base_uri": "https://localhost:8080/"
    },
    "id": "6Sryi2rGZU9F",
    "outputId": "a79f8dda-101b-4449-9aad-96ef7610c3a9"
   },
   "outputs": [],
   "source": [
    "# загрузка модели CatBoostClassifier\n",
    "model = CatBoostClassifier()\n",
    "model.load_model('/content/drive/MyDrive/cbm_big.cbm')\n",
    "print(model.get_params())"
   ]
  },
  {
   "cell_type": "markdown",
   "metadata": {
    "id": "PagSH_2ieULN"
   },
   "source": [
    "Найдём 20 ближайших соседей для валидационной выборки. Посчитаем сначала метрику без ранжирующей модели."
   ]
  },
  {
   "cell_type": "code",
   "execution_count": null,
   "metadata": {
    "colab": {
     "base_uri": "https://localhost:8080/"
    },
    "id": "81O90Yncno4Y",
    "outputId": "aa8bf516-8832-47bf-e9db-96d5f90f97cc"
   },
   "outputs": [],
   "source": [
    "%%time\n",
    "r, idx = idx_l2.search(np.ascontiguousarray(df_validation_SS).astype('float32'), 20)\n",
    "idx_cat = idx # для ранжирующей модели возьмем всех найденных 20 соседей\n",
    "idx = np.delete(idx, list(range(5, 20)), 1)\n",
    "idx.shape"
   ]
  },
  {
   "cell_type": "code",
   "execution_count": null,
   "metadata": {
    "colab": {
     "base_uri": "https://localhost:8080/"
    },
    "id": "fZ9YOZEBwAuc",
    "outputId": "5e2d2ac6-897a-4b53-f8ba-cb6c7c8e591b"
   },
   "outputs": [],
   "source": [
    "accuracy_aggregator(\n",
    "    answers, idx, base_index, 200, nprobe, 'Validation, 5 Neigbours')"
   ]
  },
  {
   "cell_type": "code",
   "execution_count": null,
   "metadata": {
    "colab": {
     "base_uri": "https://localhost:8080/"
    },
    "id": "TFLMsIgK0q34",
    "outputId": "e215166f-37d8-413e-c522-d4b8e50cfe65"
   },
   "outputs": [],
   "source": [
    "accuracy_aggregator(\n",
    "    answers, idx_cat, base_index, 200, nprobe, 'Validation, 20 Neigbours')"
   ]
  },
  {
   "cell_type": "code",
   "execution_count": null,
   "metadata": {
    "colab": {
     "base_uri": "https://localhost:8080/"
    },
    "id": "NxpKsW-wuhti",
    "outputId": "f7f4e048-1886-4915-f789-a07bfb94df5f"
   },
   "outputs": [],
   "source": [
    "idx_cat.shape"
   ]
  },
  {
   "cell_type": "markdown",
   "metadata": {
    "id": "v0_UME4Ke0hS"
   },
   "source": [
    "Теперь с помощью ранжирующей модели выберем из 20 соседей лучших 5 по мнению модели. Посчитаем метрику."
   ]
  },
  {
   "cell_type": "code",
   "execution_count": null,
   "metadata": {
    "id": "tJipRGsJrDX6"
   },
   "outputs": [],
   "source": [
    "# подготовка к инициализации датафрейма df_base_cat,\n",
    "# который подаётся на вход модели Catboost\n",
    "columns=df_base.columns.tolist()\n",
    "all_columns = columns\n",
    "new_columns = [f'{col}_search' for col in columns]\n",
    "all_columns.extend(new_columns)\n",
    "df_base_cat = pd.DataFrame(columns=all_columns)\n",
    "columns=df_base.columns.tolist()\n",
    "idx_cat_cut = np.empty(5, dtype=int)"
   ]
  },
  {
   "cell_type": "code",
   "execution_count": null,
   "metadata": {
    "id": "6_eyKMh2578p"
   },
   "outputs": [],
   "source": [
    "# здесь опять медленный способ работы, нужно исправить.\n",
    "# опять работа на ограниченном наборе данных\n",
    "for step in range(20000):\n",
    "  df_base_cat = pd.DataFrame(columns=all_columns)\n",
    "  cycle = 0\n",
    "  for el in idx_cat[step]:\n",
    "    df_base_cat.loc[cycle, columns] = df_base_SS[el]\n",
    "    df_base_cat.loc[cycle, new_columns] = df_validation_SS[step]\n",
    "    cycle += 1\n",
    "  z_pr = model.predict_proba(df_base_cat)[:, 1]\n",
    "  idx_cat_cut = np.vstack([idx_cat_cut, np.delete(idx_cat[step], np.argsort(z_pr)[:15], 0)])"
   ]
  },
  {
   "cell_type": "code",
   "execution_count": null,
   "metadata": {
    "id": "joiORCgh7lsW"
   },
   "outputs": [],
   "source": [
    "# удаление лишней первой строки\n",
    "idx_cat_cut = np.delete(idx_cat_cut, 0, axis=0)"
   ]
  },
  {
   "cell_type": "code",
   "execution_count": null,
   "metadata": {
    "colab": {
     "base_uri": "https://localhost:8080/"
    },
    "id": "3aileuLQ6Yj5",
    "outputId": "7c096a00-dbf5-405e-ec9b-bc9bd8cabfa0"
   },
   "outputs": [],
   "source": [
    "idx_cat_cut.shape"
   ]
  },
  {
   "cell_type": "code",
   "execution_count": null,
   "metadata": {
    "colab": {
     "base_uri": "https://localhost:8080/"
    },
    "id": "U0kb3iyXtsGH",
    "outputId": "082a00b9-cc5c-41aa-950f-1fd41af49d90"
   },
   "outputs": [],
   "source": [
    "accuracy_aggregator(\n",
    "    answers[:20000], idx_cat_cut, base_index, 200, nprobe, 'Validation, 5 Neigbours, CatBoost')"
   ]
  },
  {
   "cell_type": "code",
   "execution_count": null,
   "metadata": {
    "colab": {
     "base_uri": "https://localhost:8080/",
     "height": 143
    },
    "id": "j6UX0YNwno_6",
    "outputId": "397b37b6-c278-4387-966f-1ca76e29179f"
   },
   "outputs": [],
   "source": [
    "my_metrics = pd.DataFrame(overall_scores)\n",
    "my_metrics.tail(3)"
   ]
  },
  {
   "cell_type": "markdown",
   "metadata": {
    "id": "pz5DgBLgWuYd"
   },
   "source": [
    "## Выводы"
   ]
  },
  {
   "cell_type": "markdown",
   "metadata": {
    "id": "3wmVtWVTW1YX"
   },
   "source": [
    "В проекте решалась **задача разработки алгоритма, который для всех товаров из `validation.csv` предложит несколько вариантов наиболее похожих товаров из `base.csv`**.\n",
    "\n",
    "При этом:\n",
    "- `base.csv` - анонимизированный набор товаров. Каждый товар представлен как уникальный id (0-base, 1-base, 2-base) и вектор признаков размерностью 72.\n",
    "- `validation.csv` - датасет с товарами (уникальный id и вектор признаков), для которых надо найти наиболее близкие товары из base.csv\n",
    "\n",
    "Для подбора оптимальных параметров приближенного поиска использовался обучающий датасет `target.csv`. Каждая строчка - один товар, для которого известен уникальный id (0-query, 1-query, …), вектор признаков и id товара из base.csv, который максимально похож на него (по мнению экспертов).\n",
    "\n",
    "- При решении задачи была использована библиотека для приближённого поиска ближайших соседей `FAISS`.\n",
    "\n",
    "- Проведён исследовательский анализ данных. В целях повышения метрики произведено масштабирование признаков с использованием `StandardScaler`.\n",
    "\n",
    "- Создан, обучен и сохранён на диск индекс для `FAISS` с оптимальными в рамках данного исследования параметрами.\n",
    "\n",
    "- В качестве демонстрации подхода обучена ранжирующая модель CatBoost. В дальнейшем модель позволит дополнительно оптимизировать поиск, а также выделить наиболее значимые признаки.\n",
    "\n",
    "- Время поиска 5 ближайших соседей для датасета `validation.csv` на этом индексе составило около **15 минут** (Colab, без подписки).\n",
    "\n",
    "- Качество предложенного алгоритма по метрике `accuracy@5` для датасета `validation.csv` составило **64,8%** (без применения ранжирующей модели).\n",
    "\n",
    "- Сохранённые индекс и модель позволяют реализовать развёртывание решения в виде микросервиса.\n"
   ]
  },
  {
   "cell_type": "markdown",
   "metadata": {
    "id": "VeqCwRWTG_AG"
   },
   "source": [
    "### Что нужно улучшить"
   ]
  },
  {
   "cell_type": "markdown",
   "metadata": {
    "id": "EWDs7JzHjTnP"
   },
   "source": [
    "- Для выбора оптимального индекса надо оценить время работы для каждого из них\n",
    "- Дальнейшая работа с признаками должна повысить метрику\n",
    "- От ранжирующей модели нужно получить большее качество, после этого её нужно применять для отбора более качественных соседей (если это будет оправдано с точки зрения производительности)\n",
    "- Полноценно реализовать решение в качестве микросервиса"
   ]
  },
  {
   "cell_type": "code",
   "execution_count": null,
   "metadata": {
    "id": "r9bBB2TkknW0"
   },
   "outputs": [],
   "source": []
  }
 ],
 "metadata": {
  "colab": {
   "provenance": [],
   "toc_visible": true
  },
  "kernelspec": {
   "display_name": "Python 3 (ipykernel)",
   "language": "python",
   "name": "python3"
  },
  "language_info": {
   "codemirror_mode": {
    "name": "ipython",
    "version": 3
   },
   "file_extension": ".py",
   "mimetype": "text/x-python",
   "name": "python",
   "nbconvert_exporter": "python",
   "pygments_lexer": "ipython3",
   "version": "3.11.5"
  }
 },
 "nbformat": 4,
 "nbformat_minor": 1
}
